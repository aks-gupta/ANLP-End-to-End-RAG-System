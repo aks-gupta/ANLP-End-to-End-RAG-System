{
  "nbformat": 4,
  "nbformat_minor": 0,
  "metadata": {
    "colab": {
      "provenance": []
    },
    "kernelspec": {
      "name": "python3",
      "display_name": "Python 3"
    },
    "language_info": {
      "name": "python"
    }
  },
  "cells": [
    {
      "cell_type": "code",
      "execution_count": null,
      "metadata": {
        "id": "PO5gscAo-IKz"
      },
      "outputs": [],
      "source": [
        "!pip install pdfplumber\n"
      ]
    },
    {
      "cell_type": "code",
      "source": [
        "import pdfplumber\n",
        "\n",
        "\n",
        "def scrape_pdf(file_path, output_file):\n",
        "\n",
        "    with pdfplumber.open(file_path) as pdf, open(output_file, 'w', encoding='utf-8') as file:\n",
        "\n",
        "        for page_number, page in enumerate(pdf.pages):\n",
        "\n",
        "            text = page.extract_text()\n",
        "\n",
        "            if text:\n",
        "                file.write(f\"\\n--- Page {page_number + 1} ---\\n\")\n",
        "                file.write(text)\n",
        "                file.write(\"\\n\\n\")\n",
        "\n",
        "            else:\n",
        "                file.write(f\"\\n--- Page {page_number + 1} ---\\n\")\n",
        "                file.write(\"No text found on this page.\\n\\n\")\n",
        "\n",
        "    print(f\"Scraping completed. Output saved to {output_file}\")\n",
        "\n",
        "\n",
        "pdf_file = \"/content/VP_InsidersGuide_2024-DIGITAL-03-25.pdf\"\n",
        "output_file = \"VisitPittsPDF.txt\"\n",
        "scrape_pdf(pdf_file, output_file)\n"
      ],
      "metadata": {
        "id": "QUjCCB7E-NIN"
      },
      "execution_count": null,
      "outputs": []
    },
    {
      "cell_type": "code",
      "source": [
        "inp = [\"/content/23255_2024_Operating_Budget.pdf\", \"ISP.pdf\", \"Payroll.pdf\", \"Parking.pdf\", \"UF.pdf\"]\n",
        "out = [\"Budget2024\", \"ISP.txt\", \"Payroll.txt\", \"Parking.txt\", \"UF.txt\"]\n",
        "\n",
        "i = 0\n",
        "scrape_pdf(inp[i], out[i])"
      ],
      "metadata": {
        "id": "i-Ba9HRj-QE1"
      },
      "execution_count": null,
      "outputs": []
    }
  ]
}