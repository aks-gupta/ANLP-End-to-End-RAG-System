{
 "cells": [
  {
   "cell_type": "code",
   "execution_count": 19,
   "metadata": {},
   "outputs": [],
   "source": [
    "\n",
    "import os\n",
    "from pathlib import Path\n",
    "import requests\n",
    "import json\n",
    "import re\n"
   ]
  },
  {
   "cell_type": "code",
   "execution_count": 12,
   "metadata": {},
   "outputs": [],
   "source": [
    "def read_text_file(file_path):\n",
    "    with open(file_path, 'r', encoding='utf-8') as file:\n",
    "        return file.read()\n",
    "\n",
    "def chunk_text(text, chunk_size=1024):\n",
    "    chunks = []\n",
    "    current_chunk = \"\"\n",
    "    words = text.split()\n",
    "    \n",
    "    for word in words:\n",
    "        if len(current_chunk) + len(word) + 1 > chunk_size:\n",
    "            chunks.append(current_chunk.strip())\n",
    "            current_chunk = \"\"\n",
    "        current_chunk += word + \" \"\n",
    "    \n",
    "    if current_chunk:\n",
    "        chunks.append(current_chunk.strip())\n",
    "    \n",
    "    return chunks\n",
    "\n",
    "def process_data_folder(folder_path):\n",
    "    all_chunks = []\n",
    "    for root, dirs, files in os.walk(folder_path):\n",
    "        for file in files:\n",
    "            if file.endswith('.txt'):\n",
    "                file_path = Path(root) / file\n",
    "                text = read_text_file(file_path)\n",
    "                chunks = chunk_text(text)\n",
    "                all_chunks.extend(chunks)\n",
    "    return all_chunks\n",
    "\n",
    "data_folder = 'data'\n",
    "text_chunks = process_data_folder(data_folder)"
   ]
  },
  {
   "cell_type": "code",
   "execution_count": 13,
   "metadata": {},
   "outputs": [
    {
     "data": {
      "text/plain": [
       "526"
      ]
     },
     "execution_count": 13,
     "metadata": {},
     "output_type": "execute_result"
    }
   ],
   "source": [
    "len(text_chunks)"
   ]
  },
  {
   "cell_type": "code",
   "execution_count": 53,
   "metadata": {},
   "outputs": [],
   "source": [
    "def generate_qa_pairs(context, num_questions=5):\n",
    "    # Define the prompt to instruct the model to generate questions based on the context\n",
    "    prompt = f\"\"\"\n",
    "    Read the following context and generate {num_questions} possible question-answer pairs:\n",
    "    EACH QUESTION SHOULD BE UNIQUE AND INDEPENDENT OF THE OTHER QUESTIONS.\n",
    "    DO NOT ASK QUESTIONS RELATED TO THE PREVIOUS QUESTIONS.\n",
    "    DO NOT ASK MANY QUESTIONS WHICH ARE NOT IN THE CONTEXT.\n",
    "    ASK THE MOST RELEVANT QUESTIONS TO THE CONTEXT.\n",
    "    ASK QUESTIONS THAT ARE RELEVANT TO THE CONTEXT LIKE WHAT IS THE NAME OF THE EVENT, WHO IS PERFORMING, WHEN IS THE EVENT, WHERE IS THE EVENT, ETC IF APPLICABLE.\n",
    "    \n",
    "    Example Questions:\n",
    "    \n",
    "    To help you get started, here are some example questions,\n",
    "\n",
    "    - Questions that could be answered by just prompting a LLM\n",
    "        Q: When was Carnegie Mellon University founded?\n",
    "        A: 1900\n",
    "    - Questions that can be better answered by augmenting LLM with relevant documents\n",
    "        Q: What is the name of the annual pickle festival held in Pittsburgh?\n",
    "        A: Picklesburgh\n",
    "    - Questions that are likely answered only through augmentation\n",
    "        Q: When was the Pittsburgh Soul Food Festival established?\n",
    "        A: 2019\n",
    "    - Questions that are sensitive to temporal signals(Who is performing at X venue on Y date?)\n",
    "        Q: What musical artist is performing at PPG Arena on October 13?\n",
    "        A: Billie Eilish\n",
    "    \n",
    "    Context:\n",
    "    {context}\n",
    "\n",
    "    Provide the output in the following format:\n",
    "    Q1: <Question>\n",
    "    A1: <Answer>\n",
    "    Q2: <Question>\n",
    "    A2: <Answer>\n",
    "    ...\n",
    "    QUESTIONS SHOULD BE LIKE HOW A NORMAL HUMAN WOULD ASK.  \n",
    "    QUESTIONS SHOULD BE CONCISE AND STRAIGHTFORWARD.\n",
    "    QUESTIONS SHOULD NOT BE REPETITIVE.\n",
    "    QUESTIONS SHOULD NOT BE TOO GENERAL.\n",
    "    QUESTIONS SHOULD NOT BE TOO LONG.\n",
    "    QUESTIONS SHOULD NOT BE TOO EASY (FOR EXAMPLE, \"What is the name of the event featuring Handel's Messiah?\" IS A BAD QUESTION BECAUSE THE ANSWER CAN BE FOUND IN THE QUESTION ITSELF).\n",
    "    DO NOT USE TOO MANY PRONOUNS(it, they, these, etc).\n",
    "    \n",
    "    DO NOT ASK QUESTIONS THAT DO NOT HAVE A CLEAR AND CONCISE ANSWER.\n",
    "    \n",
    "    THE QUESTION SHOULD BE A SINGLE LINE, SHORT AND CONCISE.\n",
    "    \n",
    "    THE ANSWER TO THE QUESTION SHOULD BE A SINGLE LINE, SHORT AND CONCISE.\n",
    "    \n",
    "    ASK QUESTIONS THAT ARE RELEVANT TO THE CONTEXT LIKE WHAT IS THE NAME OF THE EVENT, WHO IS PERFORMING, WHEN IS THE EVENT, WHERE IS THE EVENT, ETC IF APPLICABLE.\n",
    "    BASED ON THE TOPIC OF THE CONTEXT, ASK QUESTIONS THAT ARE RELEVANT TO THE TOPIC LIKE WHAT IS THE HISTORY OF THE EVENT, WHAT IS THE PURPOSE OF THE EVENT, WHAT IS THE SIGNIFICANCE OF THE EVENT, ETC IF APPLICABLE.\n",
    "    \n",
    "    USE SIMPLE WORDS AND LANGUAGE.\n",
    "    \n",
    "    \"\"\"\n",
    "\n",
    "    # Send the prompt to the Ollama server\n",
    "    url = \"http://localhost:11434/api/generate\"\n",
    "    payload = {\n",
    "        \"model\": \"llama3.2\",\n",
    "        \"prompt\": prompt,\n",
    "        \"temperature\": 0.5,\n",
    "        \"top_p\": 0.9,\n",
    "        \"stream\": False \n",
    "    }\n",
    "    \n",
    "    try:\n",
    "        response = requests.post(url, json=payload)\n",
    "        response.raise_for_status()  # Raise an error for bad responses\n",
    "        result = response.json().get('response', \"\")\n",
    "        \n",
    "        # Parse the output to separate questions and answers\n",
    "        questions, answers = [], []\n",
    "        lines = result.strip().split(\"\\n\")\n",
    "        \n",
    "        for line in lines:\n",
    "            if line.startswith(\"Q\"):\n",
    "                questions.append(line.split(\": \", 1)[1].strip())\n",
    "            elif line.startswith(\"A\"):\n",
    "                answers.append(line.split(\": \", 1)[1].strip())\n",
    "        \n",
    "        return questions, answers\n",
    "\n",
    "    except requests.ConnectionError:\n",
    "        print(\"Connection error: Could not connect to the Ollama server.\")\n",
    "        return [], []\n",
    "    except requests.HTTPError as http_err:\n",
    "        print(f\"HTTP error occurred: {http_err}\")\n",
    "        return [], []\n",
    "    except Exception as err:\n",
    "        print(f\"An error occurred: {err}\")\n",
    "        return [], []\n",
    "# for chunk in text_chunks:\n",
    "#     qa_pairs = generate_qa_pairs(chunk)\n",
    "#     print(qa_pairs)\n"
   ]
  },
  {
   "cell_type": "code",
   "execution_count": 48,
   "metadata": {},
   "outputs": [
    {
     "data": {
      "text/plain": [
       "526"
      ]
     },
     "execution_count": 48,
     "metadata": {},
     "output_type": "execute_result"
    }
   ],
   "source": [
    "len(text_chunks)"
   ]
  },
  {
   "cell_type": "code",
   "execution_count": 49,
   "metadata": {},
   "outputs": [
    {
     "name": "stdout",
     "output_type": "stream",
     "text": [
      "['Oct 18 - Nov 8 221 N Main St Greensburg, Pennsylvania 15601 Oct 18, 2024 - Mar 30 2025 The Westmoreland Museum of American Art 221 N. Main St. Greensburg, Pennsylvania 15601 Oct 18 - Nov 2 City-County Building 414 Grant Street Pittsburgh, Pennsylvania 15219 Oct 18, 2024 - Jan 20 2025 The Andy Warhol Museum 117 Sandusky Street Pittsburgh, Pennsylvania 15212 Oct 18, 2024 - Jan 5 2025 Carnegie Science Center One Allegheny Avenue Pittsburgh, Pennsylvania 15212 Oct 17 Pittsburgh Shrine Center 1877 Shriners Way Cheswick, Pennsylvania 15024 Oct 17 Pittsburgh Shrine Center 1877 Shriners Way Cheswick, Pennsylvania 15024 Oct 18 - Dec 8 221 N Main St. Greensburg, Pennsylvania 15601 Oct 18, 2024 - Mar 2 2025 The Westmoreland Museum of American Art 221 N. Main St. Greensburg, Pennsylvania 15601 Oct 18 - Nov 8 ISC Pop-Up Gallery 623 Smithfield St Pittsburgh, Pennsylvania 15222 Oct 18, 2024 - Sep 11 2025 Puzzling Adventures Start & Finish Location 629 Smithfield St Pittsburgh, Pennsylvania 15222 Oct 18, 2024 - Jan 18 2025', \"Contemporary Craft 5645 Butler Street Pittsburgh, Pennsylvania 15201 Oct 18 - 27 Scary Harry's Haunted Trails 1681 Pierce Road Homer City, Pennsylvania 15748 Oct 18 - Nov 16 Omni William Penn 530 William Penn Pl Pittsburgh, Pennsylvania 15219 Oct 18 - 31 Oct 18, 2024 - Apr 1 2025 Bike the Burgh Tours 1049 Penn Ave Pittsburgh, Pennsylvania 15222 Oct 18 - Nov 30 Pitt Cycles 65 WARRENDALE BAYNE RD, WARRENDALE, PA 15086 Pittsburgh, Pennsylvania 15086 Oct 18, 2024 - Apr 1 2025 Walk the Burgh Tours 1049 Penn Ave Pittsburgh, Pennsylvania 15202 Oct 18, 2024 - Apr 2 2025 Walk the Burgh Tours 1049 Penn Ave Pittsburgh, Pennsylvania 15222 Oct 18, 2024 - Apr 1 2025 Walk the Burgh Tours 1049 Penn Ave Pittsburgh, Pennsylvania 15222 Oct 18 - 27 Jellystone Park™ Kozy Rest 449 Campground Road, Harrisville, PA 16038 Harrisville, Pennsylvania 16038 Oct 18, 2024 - Apr 4 2025 Walk the Burgh Tours 1049 Penn Ave Pittsburgh, Pennsylvania 15222 Oct 18, 2024 - Apr 5 2025 Bike the Burgh Tours 1049 Penn Ave Pittsburgh, Pennsylvania\", '15222 Oct 18, 2024 - Apr 5 2025 Walk the Burgh Tours 1049 Penn Ave Pittsburgh, Pennsylvania 15222 Oct 18, 2024 - Apr 5 2025 Walk the Burgh Tours 1049 Penn Ave Pittsburgh, Pennsylvania 15222 Oct 18, 2024 - Apr 5 2025 Bike the Burgh Tours 1049 Penn Ave Pittsburgh, Pennsylvania 15222 Oct 18, 2024 - Apr 5 2025 Walk the Burgh Tours 1049 Penn Ave Pittsburgh, Pennsylvania 15222 Oct 18 - Dec 14 Carnegie Museum of Natural History 4400 Forbes Avenue Pittsburgh, Pennsylvania 15213 Oct 18, 2024 - Apr 6 2025 Walk the Burgh Tours 1049 Penn Ave Pittsburgh, Pennsylvania 15222 Oct 18 - 19 Divine Mercy Academy Lourdes Center 245 Azalea Drive Monroeville, Pennsylvania 15146 Oct 18 - 27 The Jimmy Stewart Museum 835 Philadelphia St. Indiana, Pennsylvania 15701 Oct 18, 2024 - Jun 8 2025 The Westmoreland Museum of American Art 221 N. Main St. Greensburg, Pennsylvania 15601 Oct 18 - 31 Hofbrauhaus Pittsburgh Brewery & Restaurant 2705 S. Water Street Pittsburgh, Pennsylvania 15203 Oct 18 - 31 Mixtape 4907 Penn Ave, Pittsburgh, PA', \"15224 Pittsburgh, Pennsylvania 15224 Oct 18, 2024 - Jan 5 2025 The Westmoreland Museum of American Art 221 N. Main St. Greensburg, Pennsylvania 15601 Oct 18 - 26 Iron Horse Community Theatre 348 Maplewood Avenue Ambridge, Pennsylvania 15003 Oct 18 - 19 Segriff Stage 134 Brighton Ave Rochester, Pennsylvania 15074 Oct 18 - 24 The Lindsay Theater and Cultural Center 418 Walnut St. Sewickley, Pennsylvania 15143 Oct 17 Steel City 625 Smithfield Street Pittsburgh, Pennsylvania 15222 Oct 18 - 27 Downtown 350 FORBES AVE PITTSBURGH, Pennsylvania 15222-1808 Oct 17 PPG Paints Arena 1001 Fifth Avenue Pittsburgh, PA, Pennsylvania 15219 Oct 17 PPG Paints Arena 1001 Fifth Avenue Pittsburgh, PA, Pennsylvania 15219 Oct 17 PPG Paints Arena 1001 Fifth Avenue Pittsburgh, PA, Pennsylvania 15219 Oct 17 CCAC Boyce Campus 595 Beatty Rd. Monroeville, Pennsylvania 15146 Oct 17 THE CIRCUIT CENTER 5 Hot Metal Street Pittsburgh, Pennsylvania 15203 Oct 17 Oct 17 Delanie's Coffee 1737 E Carson St Pittsburgh, Pennsylvania 15203 Oct 17\", 'Carnegie Science Center One Allegheny Ave Pittsburgh, Pennsylvania 15212 Oct 18 - 19 Oct 18 Oct 18 - Nov 19 Oct 18 Gateway Clipper Fleet 350 W Station Square Drive Pittsburgh, Pennsylvania 15219 Oct 19 Strip District Terminal 2101 Smallman Street Pittsburgh, Pennsylvania 15222 Oct 19 - 20 Koppers Building 436 Seventh Ave Pittsburgh, Pennsylvania 15219 Oct 19 Acrisure Stadium 100 Art Rooney Ave Pittsburgh, Pennsylvania 15212 Oct 19 8th Street &, Penn Ave, Pittsburgh, PA 15222 Pittsburgh, PA 15222 Oct 19 Hard Rock Cafe Pittsburgh 230 W Station Square Dr Pittsburgh, Pennsylvania 15219 Oct 19 Hard Rock Cafe Pittsburgh 230 W Station Square Dr Pittsburgh, Pennsylvania 15219 Oct 19 Hard Rock Cafe Pittsburgh 230 W Station Square Dr Pittsburgh, Pennsylvania 15219 Oct 19 - 27 Pittsburgh Zoo & Aquarium One Wild Place Pittsburgh, Pennsylvania 15206 Oct 19 Powdermill Nature Reserve 1795 Route 381 Rector, Pennsylvania 15677 Oct 19 Hosanna House 807 Wallace Ave Pittsburgh, Pennsylvania 15221 Oct 19 Henne Jewelers 5501', \"Walnut Street Pittsburgh, Pennsylvania 15232 Oct 19 - 20 Oct 19 Children's Museum of Pittsburgh 10 Childrens's Way Pittsburgh, Pennsylvania 15212 Oct 19 Children's Museum of Pittsburgh 10 Children's Way Pittsburgh, Pennsylvania 15212 Oct 19 - Nov 10 Reeger's farm 755 Laurel Rd. Shelocta, Pennsylvania 15774 Oct 19 Vanka Murals 24 Maryland Ave Millvale PA 15209 Pittsburgh, Pennsylvania 15206 Oct 19 National Aviary 700 Arch Street Pittsburgh, Pennsylvania 15212 Oct 19 Bitz Opera Factory 2425 Liberty Avenue Pittsburgh, Pennsylvania 15222 Oct 19 Norbert Personal Care 2413 St. Norbert St Pittsburgh, Pennsylvania 15234 Oct 19 1 Market Square Pittsburgh, PA 15222 October 18, 2024 to November 8, 202465 Artists, 65 Years: An Anniversary ExhibitionAs 2024 is the 65th anniversary of the Museum opening its doors to the public, the year will start off with an anniversary exhibition presenting 65 artists from the museum collection. At 65 years, the Museum is thinking about its role and responsibility to foster\", \"conversations that will cultivate an understanding of artistic expression, illuminate the interconnectedness of American stories, and value underrepresented perspectives. We invite you to join us on this forward-looking journey, celebrating 65 years of art, culture, and community at The Westmoreland.October 18, 2024 to March 30, 2025October 18, 2024 to November 2, 2024 7:00 PMHaunted Pittsburgh Downtown Walking TourHaunted Pittsburgh is the curator of Pittsburgh's nightmares and of all things that go bump in the night. Join us for a spine-tingling, outdoor, walking ghost tour of one of America's most haunted cities. We'll take you as close to as many haunted sites as we can and regale you with Pittsburgh's greatest ghost stories. We know where all the bodies are buried! Pittsburgh has a North Side and a South Side--we take you to its dark side. Tours run rain or shine. The tour meets at the Grant Street side of the City-County Building by the Mayor Caliguiri statue. Tour runs Fridays and Saturdays, from May\", 'to early November, with additional dates in October. For more information and to purchase tickets visit: www.hauntedpittsburghtours.comOctober 18, 2024 to January 20, 2025KAWS + WarholIn celebration of its 30th anniversary, The Warhol presents KAWS + Warhol, the first exhibition to examine the dark themes present in the work of both artists. From skulls to car crashes, both artists deploy their signature bright colors and pop culture references while also presenting the lurid spectacle of death. The dark undercurrents in the work of KAWS and Warhol are magnified and brought into plain sight by presenting the two artists together for the first time. KAWS will also respond to Warhol’s embrace of commercialism by presenting a new series of paintings, sculptures, and installations related to his recent commission with General Mills which inserted his signature characters into the packaging for some of America’s most loved cereal boxes including Reese’s Puffs, Count Chocula, and Boo-Berry. The cereal works will', 'be juxtaposed with Warhol’s iconic Brillo Boxes and his lesser-known series of paintings for children. In response to The Warhol’s new initiative The Pop District, KAWS will also present a monumental wooden sculpture in Pop Park, directly across from the museum and visible from its entrance space.KAWS + Warhol is presented by UNIQLO Major support provided by Nemacolin, Jim Spencer & Michael Lin, and Kathe & Jim Patrinos. Media Sponsor: Orange Barrel Media Image: Background: Andy Warhol, Ambulance Disaster, 1964-65, Contribution Dia Center for the Arts, ©The Andy Warhol Foundation, Inc.Foreground:KAWS, COMPANION 2020, 2020, © KAWS October 18, 2024 to January 5, 2025The Science Behind PixarDive into the minds of the artists and computer scientists who help bring Pixar’s award-winning films to the big screen. Go behind the scenes with The Science Behind Pixar exhibition as you replicate Pixar magic using science, technology, engineering, and math (STEM) through more than 50 interactive and hands-on displays.', 'Plus, your selfies are about to get an animated upgrade! Strike a pose with life size re-creations of Buzz Lightyear from Toy Story, Mike and Sulley from Monsters University, Dory from Finding Nemo, Edna Mode from The Incredibles, and WALL•E from WALL•E. Get ready for a thrilling, interactive, and informative experience with The Science Behind Pixar at Carnegie Science Center! Whether you’re booking a Pixar field trip, planning a family trip, or revisiting your favorite Pixar movies and characters, you’re in for a totally good time.October 18, 2024 to December 8, 2024The Great Search: Art in a Time of Change, 1928–1945The Great Search: Art in a Time of Change, 1928–1945 surveys the period from the beginning of the Great Depression to the end of World War II to demonstrate how pluralism was a hallmark of the modern American art world. This exhibition features works by Andrew Wyeth, Arthur Dove, Milton Avery, and others. The Great Search‘s title references American Art Today, the World’s Fair exhibition held']\n"
     ]
    }
   ],
   "source": [
    "print(text_chunks[:10])"
   ]
  },
  {
   "cell_type": "code",
   "execution_count": 44,
   "metadata": {},
   "outputs": [
    {
     "name": "stdout",
     "output_type": "stream",
     "text": [
      "['What is the name of the event?', 'Where is the walk taking place?', 'Who is performing at Hofbrauhaus Pittsburgh Brewery & Restaurant?', 'When does the event start?', 'What is the duration of the event for Walk the Burgh Tours?', 'Who is performing at the Carnegie Museum of Natural History?', 'What type of event is Bike the Burgh Tours?', 'Where is Mixtape located?', 'Who performed at Divine Mercy Academy Lourdes Center from October 18 to November 3?', 'How long does the event run for The Westmoreland Museum of American Art?']\n",
      "['Walk the Burgh Tours', 'Pittsburgh, Pennsylvania', 'Not specified (Hofbrauhaus is a brewery and restaurant)', 'October 18, 2024', 'From October 18 to April 5, 2025', 'Not specified (no performance listed)', 'A bike tour', '4907 Penn Ave, Pittsburgh, PA', 'Not specified (event information not provided)', 'From October 18 to December 31, 2024']\n"
     ]
    },
    {
     "data": {
      "text/plain": [
       "True"
      ]
     },
     "execution_count": 44,
     "metadata": {},
     "output_type": "execute_result"
    }
   ],
   "source": [
    "# Example Usage\n",
    "context = text_chunks[2]\n",
    "questions, answers = generate_qa_pairs(context)\n",
    "print(questions)\n",
    "print(answers)"
   ]
  },
  {
   "cell_type": "code",
   "execution_count": 58,
   "metadata": {},
   "outputs": [
    {
     "name": "stdout",
     "output_type": "stream",
     "text": [
      "Questions and answers do not match 23\n",
      "Questions and answers do not match 40\n",
      "Questions and answers do not match 148\n",
      "Questions and answers do not match 183\n",
      "Questions and answers do not match 187\n",
      "Questions and answers do not match 190\n",
      "Questions and answers do not match 211\n",
      "Questions and answers do not match 230\n",
      "Questions and answers do not match 234\n",
      "Questions and answers do not match 269\n",
      "Questions and answers do not match 336\n",
      "Questions and answers do not match 371\n",
      "Questions and answers do not match 379\n",
      "Questions and answers do not match 380\n",
      "Questions and answers do not match 417\n",
      "Questions and answers do not match 426\n",
      "Questions and answers do not match 460\n",
      "Questions and answers do not match 487\n"
     ]
    }
   ],
   "source": [
    "qa_pairs = []\n",
    "for i in range(len(text_chunks)):\n",
    "    questions, answers = generate_qa_pairs(text_chunks[i])\n",
    "    if len(questions) == len(answers):\n",
    "        for j in range(len(questions)):\n",
    "            qa_pairs.append({\"question\": questions[j], \"answer\": answers[j]})\n",
    "    else:\n",
    "        print(\"Questions and answers do not match\", i)"
   ]
  },
  {
   "cell_type": "code",
   "execution_count": 60,
   "metadata": {},
   "outputs": [
    {
     "name": "stdout",
     "output_type": "stream",
     "text": [
      "2472\n"
     ]
    }
   ],
   "source": [
    "print(len(qa_pairs))"
   ]
  },
  {
   "cell_type": "code",
   "execution_count": 61,
   "metadata": {},
   "outputs": [],
   "source": [
    "import json\n",
    "\n",
    "with open('qa_pairs.json', 'w') as f:\n",
    "    json.dump(qa_pairs, f, indent=2)"
   ]
  },
  {
   "cell_type": "code",
   "execution_count": 2,
   "metadata": {},
   "outputs": [],
   "source": [
    "import pandas as pd\n",
    "\n",
    "df = pd.read_json('qa_pairs_new.json')\n",
    "df.to_excel('qa_pairs.xlsx', index=False)"
   ]
  },
  {
   "cell_type": "code",
   "execution_count": null,
   "metadata": {},
   "outputs": [],
   "source": []
  }
 ],
 "metadata": {
  "kernelspec": {
   "display_name": "base",
   "language": "python",
   "name": "python3"
  },
  "language_info": {
   "codemirror_mode": {
    "name": "ipython",
    "version": 3
   },
   "file_extension": ".py",
   "mimetype": "text/x-python",
   "name": "python",
   "nbconvert_exporter": "python",
   "pygments_lexer": "ipython3",
   "version": "3.12.4"
  }
 },
 "nbformat": 4,
 "nbformat_minor": 2
}
